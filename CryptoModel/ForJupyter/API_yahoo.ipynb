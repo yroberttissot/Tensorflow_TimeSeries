{
 "cells": [
  {
   "cell_type": "code",
   "execution_count": 3,
   "metadata": {},
   "outputs": [
    {
     "name": "stdout",
     "output_type": "stream",
     "text": [
      "401\n",
      "<bound method Response.json of <Response [401]>>\n"
     ]
    }
   ],
   "source": [
    "import requests\n",
    "import json\n",
    "import time\n",
    "import datetime\n",
    "\n",
    "period1_datetime = datetime.date(2015,1,5)\n",
    "period2_datetime = datetime.date(2015,5,5)\n",
    "\n",
    "\n",
    "BASEURL = 'https://finance.yahoo.com/quote/'\n",
    "name = 'LTC-USD'\n",
    "# '/history?period1=1483225200&period2=1527458400&interval=1d&filter=history&frequency=1d'\n",
    "\n",
    "download_url = 'https://query1.finance.yahoo.com/v7/finance/download/LTC-USD?'\n",
    "crumbtest=\"RHIdwzBqOBp\"\n",
    "\n",
    "params_down = {\n",
    "    'period1': 1483225200,\n",
    "    'period2': 1527458400,\n",
    "    'interval': '1d',\n",
    "    'events': 'history',\n",
    "    'crumb': '3LgxWcqtZLF'\n",
    "}\n",
    "params_base = {\n",
    "        'period1': time.mktime(period1_datetime.timetuple()),\n",
    "        'period2': time.mktime(period2_datetime.timetuple()),\n",
    "        'interval': '1d',\n",
    "        'filter': 'history',\n",
    "        'frequency': '1d'\n",
    "    }\n",
    "\n",
    "HEADERS = {'Content': 'application/json'}\n",
    "\n",
    "def main():    \n",
    "    url = download_url + name \n",
    "    test_url=url+\"?period1=1483225200&period2=1527458400&interval=1d&events=history&crumb=\" + crumbtest\n",
    "    #r = requests.get(download_url, headers=HEADERS, params=params_down)\n",
    "    r = requests.get(test_url, headers=HEADERS, params=params_base)\n",
    "    print(repr(r.status_code))\n",
    "    \n",
    "    response = r.json\n",
    "    print(repr(response))\n",
    "    with open('./test.txt', \"w\") as f:\n",
    "        f.write(repr(response))\n",
    "    \n",
    "    \n",
    "if __name__ == \"__main__\":\n",
    "    main()"
   ]
  },
  {
   "cell_type": "code",
   "execution_count": null,
   "metadata": {},
   "outputs": [],
   "source": []
  },
  {
   "cell_type": "code",
   "execution_count": null,
   "metadata": {},
   "outputs": [],
   "source": []
  }
 ],
 "metadata": {
  "kernelspec": {
   "display_name": "Python 3",
   "language": "python",
   "name": "python3"
  },
  "language_info": {
   "codemirror_mode": {
    "name": "ipython",
    "version": 3
   },
   "file_extension": ".py",
   "mimetype": "text/x-python",
   "name": "python",
   "nbconvert_exporter": "python",
   "pygments_lexer": "ipython3",
   "version": "3.7.0"
  }
 },
 "nbformat": 4,
 "nbformat_minor": 2
}
