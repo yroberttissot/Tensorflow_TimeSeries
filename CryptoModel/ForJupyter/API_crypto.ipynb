{
 "cells": [
  {
   "cell_type": "code",
   "execution_count": 3,
   "metadata": {},
   "outputs": [],
   "source": [
    "import time\n",
    "import datetime\n",
    "import requests\n",
    "import json\n",
    "import hmac\n",
    "import hashlib"
   ]
  },
  {
   "cell_type": "code",
   "execution_count": 10,
   "metadata": {},
   "outputs": [
    {
     "name": "stdout",
     "output_type": "stream",
     "text": [
      "<Response [404]>\n"
     ]
    }
   ],
   "source": [
    "def get_historical_crypto_data(crypt, start_period, end_period):\n",
    "    api_url='https://api.bitfinex.com/v1/history/'\n",
    "    \n",
    "    params = {\n",
    "        'date_from': period1_datetime,\n",
    "        'date_to': period2_datetime\n",
    "    }\n",
    "    headers = {\n",
    "        'Content': 'application/json',\n",
    "        #'Authorization': 'Bearer {0}'.format(api_token)\n",
    "    }\n",
    "    return requests.get(api_url+crypt, headers=headers, params=params)\n",
    "    \n",
    "crypt = 'usd' #can be multiple symbols separated with ,\n",
    "period1_datetime = str(datetime.date(2017,1,5))\n",
    "period2_datetime = str(datetime.date(2017,5,5))\n",
    "r=get_historical_crypto_data(crypt, period1_datetime, period2_datetime)\n",
    "print(repr(r))"
   ]
  },
  {
   "cell_type": "code",
   "execution_count": null,
   "metadata": {},
   "outputs": [],
   "source": []
  },
  {
   "cell_type": "code",
   "execution_count": null,
   "metadata": {},
   "outputs": [],
   "source": []
  }
 ],
 "metadata": {
  "kernelspec": {
   "display_name": "Python 3",
   "language": "python",
   "name": "python3"
  },
  "language_info": {
   "codemirror_mode": {
    "name": "ipython",
    "version": 3
   },
   "file_extension": ".py",
   "mimetype": "text/x-python",
   "name": "python",
   "nbconvert_exporter": "python",
   "pygments_lexer": "ipython3",
   "version": "3.7.0"
  }
 },
 "nbformat": 4,
 "nbformat_minor": 2
}
